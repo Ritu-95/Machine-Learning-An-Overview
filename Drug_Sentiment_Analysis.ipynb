{
  "cells": [
    {
      "cell_type": "markdown",
      "metadata": {
        "id": "view-in-github",
        "colab_type": "text"
      },
      "source": [
        "<a href=\"https://colab.research.google.com/github/Ritu-95/Machine-Learning-An-Overview/blob/main/Drug_Sentiment_Analysis.ipynb\" target=\"_parent\"><img src=\"https://colab.research.google.com/assets/colab-badge.svg\" alt=\"Open In Colab\"/></a>"
      ]
    },
    {
      "cell_type": "markdown",
      "id": "778173a0",
      "metadata": {
        "id": "778173a0"
      },
      "source": [
        "# Drug Sentiment Analysis"
      ]
    },
    {
      "cell_type": "markdown",
      "id": "02a14bf7",
      "metadata": {
        "id": "02a14bf7"
      },
      "source": [
        "Drug sentiment analysis is the process of analyzing opinions, emotions, and attitudes expressed in text data about drugs or medications. This analysis can provide valuable insights into how people perceive and use drugs, and it can be useful for drug companies, healthcare providers, and policymakers."
      ]
    },
    {
      "cell_type": "markdown",
      "id": "96692bd5",
      "metadata": {
        "id": "96692bd5"
      },
      "source": [
        "### Problem Statement"
      ]
    },
    {
      "cell_type": "markdown",
      "id": "e2702861",
      "metadata": {
        "id": "e2702861"
      },
      "source": [
        "The problem is to identify the sentiments of the user from their reviews."
      ]
    },
    {
      "cell_type": "markdown",
      "id": "ae9d5d24",
      "metadata": {
        "id": "ae9d5d24"
      },
      "source": [
        "### Data Description :"
      ]
    },
    {
      "cell_type": "markdown",
      "id": "a250e7cf",
      "metadata": {
        "id": "a250e7cf"
      },
      "source": [
        "Data Source: https://archive.ics.uci.edu/ml/datasets/Drug+Review+Dataset+%28Drugs.com%29"
      ]
    },
    {
      "cell_type": "markdown",
      "id": "2230863e",
      "metadata": {
        "id": "2230863e"
      },
      "source": [
        "- drugName (categorical): name of drug\n",
        "- condition (categorical): name of condition\n",
        "- review (text): patient review\n",
        "- rating (numerical): 10 star patient rating\n",
        "- date (date): date of review entry\n",
        "- usefulCount (numerical): number of users who found review useful"
      ]
    },
    {
      "cell_type": "markdown",
      "id": "b90b749b",
      "metadata": {
        "id": "b90b749b"
      },
      "source": [
        "The structure of the data is that a patient with a unique ID purchases a drug that meets his condition and writes a review and rating for the drug he/she purchased on the date. Afterwards, if the others read that review and find it helpful, they will click usefulCount, which will add 1 for the variable."
      ]
    },
    {
      "cell_type": "code",
      "execution_count": null,
      "id": "e19a958f",
      "metadata": {
        "id": "e19a958f"
      },
      "outputs": [],
      "source": [
        "#import all the necessary packages\n",
        "\n",
        "import matplotlib.pyplot as plt\n",
        "import numpy as np\n",
        "import pandas as pd\n",
        "import seaborn as sns\n",
        "%matplotlib inline\n",
        "from matplotlib import style\n",
        "style.use('ggplot')"
      ]
    },
    {
      "cell_type": "code",
      "execution_count": null,
      "id": "f422ac0b",
      "metadata": {
        "id": "f422ac0b"
      },
      "outputs": [],
      "source": [
        "#read the train and test data\n",
        "\n",
        "train = pd.read_csv('drugsComTrain_raw.tsv', sep='\\t') #train data\n",
        "test = pd.read_csv('drugsComTest_raw.tsv', sep='\\t') #test data"
      ]
    },
    {
      "cell_type": "code",
      "execution_count": null,
      "id": "b30a8674",
      "metadata": {
        "id": "b30a8674"
      },
      "outputs": [],
      "source": [
        "#rename the first column\n",
        "\n",
        "train.rename(columns={'Unnamed: 0': 'uniqueID'}, inplace=True)\n",
        "test.rename(columns={'Unnamed: 0': 'uniqueID'}, inplace=True)"
      ]
    },
    {
      "cell_type": "code",
      "execution_count": null,
      "id": "fdb8ebbc",
      "metadata": {
        "colab": {
          "base_uri": "https://localhost:8080/",
          "height": 250
        },
        "id": "fdb8ebbc",
        "outputId": "330333ef-3a2d-41d9-c303-e1c70ab8ee07"
      },
      "outputs": [
        {
          "output_type": "execute_result",
          "data": {
            "text/plain": [
              "   uniqueID                  drugName                     condition  \\\n",
              "0    206461                 Valsartan  Left Ventricular Dysfunction   \n",
              "1     95260                Guanfacine                          ADHD   \n",
              "2     92703                    Lybrel                 Birth Control   \n",
              "3    138000                Ortho Evra                 Birth Control   \n",
              "4     35696  Buprenorphine / naloxone             Opiate Dependence   \n",
              "\n",
              "                                              review  rating  \\\n",
              "0  \"It has no side effect, I take it in combinati...     9.0   \n",
              "1  \"My son is halfway through his fourth week of ...     8.0   \n",
              "2  \"I used to take another oral contraceptive, wh...     5.0   \n",
              "3  \"This is my first time using any form of birth...     8.0   \n",
              "4  \"Suboxone has completely turned my life around...     9.0   \n",
              "\n",
              "                date  usefulCount  \n",
              "0       May 20, 2012           27  \n",
              "1     April 27, 2010          192  \n",
              "2  December 14, 2009           17  \n",
              "3   November 3, 2015           10  \n",
              "4  November 27, 2016           37  "
            ],
            "text/html": [
              "\n",
              "  <div id=\"df-0c7b8c12-68d0-46a1-ba72-1ea02d306ce1\">\n",
              "    <div class=\"colab-df-container\">\n",
              "      <div>\n",
              "<style scoped>\n",
              "    .dataframe tbody tr th:only-of-type {\n",
              "        vertical-align: middle;\n",
              "    }\n",
              "\n",
              "    .dataframe tbody tr th {\n",
              "        vertical-align: top;\n",
              "    }\n",
              "\n",
              "    .dataframe thead th {\n",
              "        text-align: right;\n",
              "    }\n",
              "</style>\n",
              "<table border=\"1\" class=\"dataframe\">\n",
              "  <thead>\n",
              "    <tr style=\"text-align: right;\">\n",
              "      <th></th>\n",
              "      <th>uniqueID</th>\n",
              "      <th>drugName</th>\n",
              "      <th>condition</th>\n",
              "      <th>review</th>\n",
              "      <th>rating</th>\n",
              "      <th>date</th>\n",
              "      <th>usefulCount</th>\n",
              "    </tr>\n",
              "  </thead>\n",
              "  <tbody>\n",
              "    <tr>\n",
              "      <th>0</th>\n",
              "      <td>206461</td>\n",
              "      <td>Valsartan</td>\n",
              "      <td>Left Ventricular Dysfunction</td>\n",
              "      <td>\"It has no side effect, I take it in combinati...</td>\n",
              "      <td>9.0</td>\n",
              "      <td>May 20, 2012</td>\n",
              "      <td>27</td>\n",
              "    </tr>\n",
              "    <tr>\n",
              "      <th>1</th>\n",
              "      <td>95260</td>\n",
              "      <td>Guanfacine</td>\n",
              "      <td>ADHD</td>\n",
              "      <td>\"My son is halfway through his fourth week of ...</td>\n",
              "      <td>8.0</td>\n",
              "      <td>April 27, 2010</td>\n",
              "      <td>192</td>\n",
              "    </tr>\n",
              "    <tr>\n",
              "      <th>2</th>\n",
              "      <td>92703</td>\n",
              "      <td>Lybrel</td>\n",
              "      <td>Birth Control</td>\n",
              "      <td>\"I used to take another oral contraceptive, wh...</td>\n",
              "      <td>5.0</td>\n",
              "      <td>December 14, 2009</td>\n",
              "      <td>17</td>\n",
              "    </tr>\n",
              "    <tr>\n",
              "      <th>3</th>\n",
              "      <td>138000</td>\n",
              "      <td>Ortho Evra</td>\n",
              "      <td>Birth Control</td>\n",
              "      <td>\"This is my first time using any form of birth...</td>\n",
              "      <td>8.0</td>\n",
              "      <td>November 3, 2015</td>\n",
              "      <td>10</td>\n",
              "    </tr>\n",
              "    <tr>\n",
              "      <th>4</th>\n",
              "      <td>35696</td>\n",
              "      <td>Buprenorphine / naloxone</td>\n",
              "      <td>Opiate Dependence</td>\n",
              "      <td>\"Suboxone has completely turned my life around...</td>\n",
              "      <td>9.0</td>\n",
              "      <td>November 27, 2016</td>\n",
              "      <td>37</td>\n",
              "    </tr>\n",
              "  </tbody>\n",
              "</table>\n",
              "</div>\n",
              "      <button class=\"colab-df-convert\" onclick=\"convertToInteractive('df-0c7b8c12-68d0-46a1-ba72-1ea02d306ce1')\"\n",
              "              title=\"Convert this dataframe to an interactive table.\"\n",
              "              style=\"display:none;\">\n",
              "        \n",
              "  <svg xmlns=\"http://www.w3.org/2000/svg\" height=\"24px\"viewBox=\"0 0 24 24\"\n",
              "       width=\"24px\">\n",
              "    <path d=\"M0 0h24v24H0V0z\" fill=\"none\"/>\n",
              "    <path d=\"M18.56 5.44l.94 2.06.94-2.06 2.06-.94-2.06-.94-.94-2.06-.94 2.06-2.06.94zm-11 1L8.5 8.5l.94-2.06 2.06-.94-2.06-.94L8.5 2.5l-.94 2.06-2.06.94zm10 10l.94 2.06.94-2.06 2.06-.94-2.06-.94-.94-2.06-.94 2.06-2.06.94z\"/><path d=\"M17.41 7.96l-1.37-1.37c-.4-.4-.92-.59-1.43-.59-.52 0-1.04.2-1.43.59L10.3 9.45l-7.72 7.72c-.78.78-.78 2.05 0 2.83L4 21.41c.39.39.9.59 1.41.59.51 0 1.02-.2 1.41-.59l7.78-7.78 2.81-2.81c.8-.78.8-2.07 0-2.86zM5.41 20L4 18.59l7.72-7.72 1.47 1.35L5.41 20z\"/>\n",
              "  </svg>\n",
              "      </button>\n",
              "      \n",
              "  <style>\n",
              "    .colab-df-container {\n",
              "      display:flex;\n",
              "      flex-wrap:wrap;\n",
              "      gap: 12px;\n",
              "    }\n",
              "\n",
              "    .colab-df-convert {\n",
              "      background-color: #E8F0FE;\n",
              "      border: none;\n",
              "      border-radius: 50%;\n",
              "      cursor: pointer;\n",
              "      display: none;\n",
              "      fill: #1967D2;\n",
              "      height: 32px;\n",
              "      padding: 0 0 0 0;\n",
              "      width: 32px;\n",
              "    }\n",
              "\n",
              "    .colab-df-convert:hover {\n",
              "      background-color: #E2EBFA;\n",
              "      box-shadow: 0px 1px 2px rgba(60, 64, 67, 0.3), 0px 1px 3px 1px rgba(60, 64, 67, 0.15);\n",
              "      fill: #174EA6;\n",
              "    }\n",
              "\n",
              "    [theme=dark] .colab-df-convert {\n",
              "      background-color: #3B4455;\n",
              "      fill: #D2E3FC;\n",
              "    }\n",
              "\n",
              "    [theme=dark] .colab-df-convert:hover {\n",
              "      background-color: #434B5C;\n",
              "      box-shadow: 0px 1px 3px 1px rgba(0, 0, 0, 0.15);\n",
              "      filter: drop-shadow(0px 1px 2px rgba(0, 0, 0, 0.3));\n",
              "      fill: #FFFFFF;\n",
              "    }\n",
              "  </style>\n",
              "\n",
              "      <script>\n",
              "        const buttonEl =\n",
              "          document.querySelector('#df-0c7b8c12-68d0-46a1-ba72-1ea02d306ce1 button.colab-df-convert');\n",
              "        buttonEl.style.display =\n",
              "          google.colab.kernel.accessAllowed ? 'block' : 'none';\n",
              "\n",
              "        async function convertToInteractive(key) {\n",
              "          const element = document.querySelector('#df-0c7b8c12-68d0-46a1-ba72-1ea02d306ce1');\n",
              "          const dataTable =\n",
              "            await google.colab.kernel.invokeFunction('convertToInteractive',\n",
              "                                                     [key], {});\n",
              "          if (!dataTable) return;\n",
              "\n",
              "          const docLinkHtml = 'Like what you see? Visit the ' +\n",
              "            '<a target=\"_blank\" href=https://colab.research.google.com/notebooks/data_table.ipynb>data table notebook</a>'\n",
              "            + ' to learn more about interactive tables.';\n",
              "          element.innerHTML = '';\n",
              "          dataTable['output_type'] = 'display_data';\n",
              "          await google.colab.output.renderOutput(dataTable, element);\n",
              "          const docLink = document.createElement('div');\n",
              "          docLink.innerHTML = docLinkHtml;\n",
              "          element.appendChild(docLink);\n",
              "        }\n",
              "      </script>\n",
              "    </div>\n",
              "  </div>\n",
              "  "
            ]
          },
          "metadata": {},
          "execution_count": 4
        }
      ],
      "source": [
        "#check the head of train data\n",
        "train.head()"
      ]
    },
    {
      "cell_type": "code",
      "execution_count": null,
      "id": "c48f6e09",
      "metadata": {
        "colab": {
          "base_uri": "https://localhost:8080/",
          "height": 206
        },
        "id": "c48f6e09",
        "outputId": "28a01844-7b91-479d-9842-89aff36dca7f"
      },
      "outputs": [
        {
          "output_type": "execute_result",
          "data": {
            "text/plain": [
              "   uniqueID         drugName                     condition  \\\n",
              "0    163740      Mirtazapine                    Depression   \n",
              "1    206473       Mesalamine  Crohn's Disease, Maintenance   \n",
              "2    159672          Bactrim       Urinary Tract Infection   \n",
              "3     39293         Contrave                   Weight Loss   \n",
              "4     97768  Cyclafem 1 / 35                 Birth Control   \n",
              "\n",
              "                                              review  rating  \\\n",
              "0  \"I&#039;ve tried a few antidepressants over th...    10.0   \n",
              "1  \"My son has Crohn&#039;s disease and has done ...     8.0   \n",
              "2                      \"Quick reduction of symptoms\"     9.0   \n",
              "3  \"Contrave combines drugs that were used for al...     9.0   \n",
              "4  \"I have been on this birth control for one cyc...     9.0   \n",
              "\n",
              "                 date  usefulCount  \n",
              "0   February 28, 2012           22  \n",
              "1        May 17, 2009           17  \n",
              "2  September 29, 2017            3  \n",
              "3       March 5, 2017           35  \n",
              "4    October 22, 2015            4  "
            ],
            "text/html": [
              "\n",
              "  <div id=\"df-6c8c054f-a485-44f7-b5aa-4e9e0c5db164\">\n",
              "    <div class=\"colab-df-container\">\n",
              "      <div>\n",
              "<style scoped>\n",
              "    .dataframe tbody tr th:only-of-type {\n",
              "        vertical-align: middle;\n",
              "    }\n",
              "\n",
              "    .dataframe tbody tr th {\n",
              "        vertical-align: top;\n",
              "    }\n",
              "\n",
              "    .dataframe thead th {\n",
              "        text-align: right;\n",
              "    }\n",
              "</style>\n",
              "<table border=\"1\" class=\"dataframe\">\n",
              "  <thead>\n",
              "    <tr style=\"text-align: right;\">\n",
              "      <th></th>\n",
              "      <th>uniqueID</th>\n",
              "      <th>drugName</th>\n",
              "      <th>condition</th>\n",
              "      <th>review</th>\n",
              "      <th>rating</th>\n",
              "      <th>date</th>\n",
              "      <th>usefulCount</th>\n",
              "    </tr>\n",
              "  </thead>\n",
              "  <tbody>\n",
              "    <tr>\n",
              "      <th>0</th>\n",
              "      <td>163740</td>\n",
              "      <td>Mirtazapine</td>\n",
              "      <td>Depression</td>\n",
              "      <td>\"I&amp;#039;ve tried a few antidepressants over th...</td>\n",
              "      <td>10.0</td>\n",
              "      <td>February 28, 2012</td>\n",
              "      <td>22</td>\n",
              "    </tr>\n",
              "    <tr>\n",
              "      <th>1</th>\n",
              "      <td>206473</td>\n",
              "      <td>Mesalamine</td>\n",
              "      <td>Crohn's Disease, Maintenance</td>\n",
              "      <td>\"My son has Crohn&amp;#039;s disease and has done ...</td>\n",
              "      <td>8.0</td>\n",
              "      <td>May 17, 2009</td>\n",
              "      <td>17</td>\n",
              "    </tr>\n",
              "    <tr>\n",
              "      <th>2</th>\n",
              "      <td>159672</td>\n",
              "      <td>Bactrim</td>\n",
              "      <td>Urinary Tract Infection</td>\n",
              "      <td>\"Quick reduction of symptoms\"</td>\n",
              "      <td>9.0</td>\n",
              "      <td>September 29, 2017</td>\n",
              "      <td>3</td>\n",
              "    </tr>\n",
              "    <tr>\n",
              "      <th>3</th>\n",
              "      <td>39293</td>\n",
              "      <td>Contrave</td>\n",
              "      <td>Weight Loss</td>\n",
              "      <td>\"Contrave combines drugs that were used for al...</td>\n",
              "      <td>9.0</td>\n",
              "      <td>March 5, 2017</td>\n",
              "      <td>35</td>\n",
              "    </tr>\n",
              "    <tr>\n",
              "      <th>4</th>\n",
              "      <td>97768</td>\n",
              "      <td>Cyclafem 1 / 35</td>\n",
              "      <td>Birth Control</td>\n",
              "      <td>\"I have been on this birth control for one cyc...</td>\n",
              "      <td>9.0</td>\n",
              "      <td>October 22, 2015</td>\n",
              "      <td>4</td>\n",
              "    </tr>\n",
              "  </tbody>\n",
              "</table>\n",
              "</div>\n",
              "      <button class=\"colab-df-convert\" onclick=\"convertToInteractive('df-6c8c054f-a485-44f7-b5aa-4e9e0c5db164')\"\n",
              "              title=\"Convert this dataframe to an interactive table.\"\n",
              "              style=\"display:none;\">\n",
              "        \n",
              "  <svg xmlns=\"http://www.w3.org/2000/svg\" height=\"24px\"viewBox=\"0 0 24 24\"\n",
              "       width=\"24px\">\n",
              "    <path d=\"M0 0h24v24H0V0z\" fill=\"none\"/>\n",
              "    <path d=\"M18.56 5.44l.94 2.06.94-2.06 2.06-.94-2.06-.94-.94-2.06-.94 2.06-2.06.94zm-11 1L8.5 8.5l.94-2.06 2.06-.94-2.06-.94L8.5 2.5l-.94 2.06-2.06.94zm10 10l.94 2.06.94-2.06 2.06-.94-2.06-.94-.94-2.06-.94 2.06-2.06.94z\"/><path d=\"M17.41 7.96l-1.37-1.37c-.4-.4-.92-.59-1.43-.59-.52 0-1.04.2-1.43.59L10.3 9.45l-7.72 7.72c-.78.78-.78 2.05 0 2.83L4 21.41c.39.39.9.59 1.41.59.51 0 1.02-.2 1.41-.59l7.78-7.78 2.81-2.81c.8-.78.8-2.07 0-2.86zM5.41 20L4 18.59l7.72-7.72 1.47 1.35L5.41 20z\"/>\n",
              "  </svg>\n",
              "      </button>\n",
              "      \n",
              "  <style>\n",
              "    .colab-df-container {\n",
              "      display:flex;\n",
              "      flex-wrap:wrap;\n",
              "      gap: 12px;\n",
              "    }\n",
              "\n",
              "    .colab-df-convert {\n",
              "      background-color: #E8F0FE;\n",
              "      border: none;\n",
              "      border-radius: 50%;\n",
              "      cursor: pointer;\n",
              "      display: none;\n",
              "      fill: #1967D2;\n",
              "      height: 32px;\n",
              "      padding: 0 0 0 0;\n",
              "      width: 32px;\n",
              "    }\n",
              "\n",
              "    .colab-df-convert:hover {\n",
              "      background-color: #E2EBFA;\n",
              "      box-shadow: 0px 1px 2px rgba(60, 64, 67, 0.3), 0px 1px 3px 1px rgba(60, 64, 67, 0.15);\n",
              "      fill: #174EA6;\n",
              "    }\n",
              "\n",
              "    [theme=dark] .colab-df-convert {\n",
              "      background-color: #3B4455;\n",
              "      fill: #D2E3FC;\n",
              "    }\n",
              "\n",
              "    [theme=dark] .colab-df-convert:hover {\n",
              "      background-color: #434B5C;\n",
              "      box-shadow: 0px 1px 3px 1px rgba(0, 0, 0, 0.15);\n",
              "      filter: drop-shadow(0px 1px 2px rgba(0, 0, 0, 0.3));\n",
              "      fill: #FFFFFF;\n",
              "    }\n",
              "  </style>\n",
              "\n",
              "      <script>\n",
              "        const buttonEl =\n",
              "          document.querySelector('#df-6c8c054f-a485-44f7-b5aa-4e9e0c5db164 button.colab-df-convert');\n",
              "        buttonEl.style.display =\n",
              "          google.colab.kernel.accessAllowed ? 'block' : 'none';\n",
              "\n",
              "        async function convertToInteractive(key) {\n",
              "          const element = document.querySelector('#df-6c8c054f-a485-44f7-b5aa-4e9e0c5db164');\n",
              "          const dataTable =\n",
              "            await google.colab.kernel.invokeFunction('convertToInteractive',\n",
              "                                                     [key], {});\n",
              "          if (!dataTable) return;\n",
              "\n",
              "          const docLinkHtml = 'Like what you see? Visit the ' +\n",
              "            '<a target=\"_blank\" href=https://colab.research.google.com/notebooks/data_table.ipynb>data table notebook</a>'\n",
              "            + ' to learn more about interactive tables.';\n",
              "          element.innerHTML = '';\n",
              "          dataTable['output_type'] = 'display_data';\n",
              "          await google.colab.output.renderOutput(dataTable, element);\n",
              "          const docLink = document.createElement('div');\n",
              "          docLink.innerHTML = docLinkHtml;\n",
              "          element.appendChild(docLink);\n",
              "        }\n",
              "      </script>\n",
              "    </div>\n",
              "  </div>\n",
              "  "
            ]
          },
          "metadata": {},
          "execution_count": 5
        }
      ],
      "source": [
        "#check the head of test data\n",
        "test.head()"
      ]
    },
    {
      "cell_type": "markdown",
      "id": "b4080c68",
      "metadata": {
        "id": "b4080c68"
      },
      "source": [
        "By looking at the head of train and test data we see that there are 7 features in our Dataset but we don't have any sentiment feature which can serve as our target variable. We will make a target feature out of rating. If Rating is greater than 5 we will assign it as positive else we will assign it as negative."
      ]
    },
    {
      "cell_type": "code",
      "execution_count": null,
      "id": "6103910d",
      "metadata": {
        "colab": {
          "base_uri": "https://localhost:8080/"
        },
        "id": "6103910d",
        "outputId": "4f7cd46a-eed2-4915-8174-771a4b0ebde8"
      },
      "outputs": [
        {
          "output_type": "stream",
          "name": "stdout",
          "text": [
            "train has 161297 number of rows and 7 number of columns\n",
            "train has 53766 number of rows and 7 number of columns\n"
          ]
        }
      ],
      "source": [
        "#check the shape of the given dataset\n",
        "print(f'train has {train.shape[0]} number of rows and {train.shape[1]} number of columns')\n",
        "print(f'train has {test.shape[0]} number of rows and {test.shape[1]} number of columns')"
      ]
    },
    {
      "cell_type": "code",
      "execution_count": null,
      "id": "ac9b92ce",
      "metadata": {
        "colab": {
          "base_uri": "https://localhost:8080/"
        },
        "id": "ac9b92ce",
        "outputId": "8af7a686-e24c-4663-a489-09fa6e3ce105"
      },
      "outputs": [
        {
          "output_type": "execute_result",
          "data": {
            "text/plain": [
              "Index(['uniqueID', 'drugName', 'condition', 'review', 'rating', 'date',\n",
              "       'usefulCount'],\n",
              "      dtype='object')"
            ]
          },
          "metadata": {},
          "execution_count": 7
        }
      ],
      "source": [
        "#check the columns in train\n",
        "train.columns"
      ]
    },
    {
      "cell_type": "markdown",
      "id": "84ee1932",
      "metadata": {
        "id": "84ee1932"
      },
      "source": [
        "### Exploratory Data Analysis"
      ]
    },
    {
      "cell_type": "markdown",
      "id": "74138ac7",
      "metadata": {
        "id": "74138ac7"
      },
      "source": [
        "Merge the train and test data as there are no target labels. We will perform our EDA and Pre-processing on merged data. Then we will dive the data into 70 : 30 ratio for training and testing"
      ]
    },
    {
      "cell_type": "code",
      "execution_count": null,
      "id": "449e94aa",
      "metadata": {
        "colab": {
          "base_uri": "https://localhost:8080/"
        },
        "id": "449e94aa",
        "outputId": "0c29d540-b407-4b16-8916-bb66e5492d01"
      },
      "outputs": [
        {
          "output_type": "execute_result",
          "data": {
            "text/plain": [
              "(215063, 7)"
            ]
          },
          "metadata": {},
          "execution_count": 8
        }
      ],
      "source": [
        "#merge train and test data\n",
        "\n",
        "merge = [train,test]\n",
        "merged_data = pd.concat(merge,ignore_index=True)\n",
        "\n",
        "merged_data.shape   #check the shape of merged_data"
      ]
    },
    {
      "cell_type": "markdown",
      "id": "1ffeb21d",
      "metadata": {
        "id": "1ffeb21d"
      },
      "source": [
        "##### Check number of uniqueIds to see if there's any duplicate record in our dataset"
      ]
    },
    {
      "cell_type": "code",
      "execution_count": null,
      "id": "074f2190",
      "metadata": {
        "colab": {
          "base_uri": "https://localhost:8080/"
        },
        "id": "074f2190",
        "outputId": "4d5a078f-18d9-46c9-8ee7-2d5c50e3c767"
      },
      "outputs": [
        {
          "output_type": "execute_result",
          "data": {
            "text/plain": [
              "215063"
            ]
          },
          "metadata": {},
          "execution_count": 9
        }
      ],
      "source": [
        "#check uniqueID\n",
        "merged_data['uniqueID'].nunique()"
      ]
    },
    {
      "cell_type": "markdown",
      "id": "561d7967",
      "metadata": {
        "id": "561d7967"
      },
      "source": [
        "There are 215063 uniqueIds meaning that every record is unique."
      ]
    },
    {
      "cell_type": "markdown",
      "id": "ed318a0b",
      "metadata": {
        "id": "ed318a0b"
      },
      "source": [
        "##### Check information of the merged data"
      ]
    },
    {
      "cell_type": "code",
      "execution_count": null,
      "id": "9589236d",
      "metadata": {
        "colab": {
          "base_uri": "https://localhost:8080/"
        },
        "id": "9589236d",
        "outputId": "f608d4d3-97d7-471a-ce02-2bc90c738356"
      },
      "outputs": [
        {
          "output_type": "stream",
          "name": "stdout",
          "text": [
            "<class 'pandas.core.frame.DataFrame'>\n",
            "RangeIndex: 215063 entries, 0 to 215062\n",
            "Data columns (total 7 columns):\n",
            " #   Column       Non-Null Count   Dtype  \n",
            "---  ------       --------------   -----  \n",
            " 0   uniqueID     215063 non-null  int64  \n",
            " 1   drugName     215063 non-null  object \n",
            " 2   condition    213869 non-null  object \n",
            " 3   review       215063 non-null  object \n",
            " 4   rating       215063 non-null  float64\n",
            " 5   date         215063 non-null  object \n",
            " 6   usefulCount  215063 non-null  int64  \n",
            "dtypes: float64(1), int64(2), object(4)\n",
            "memory usage: 11.5+ MB\n"
          ]
        }
      ],
      "source": [
        "merged_data.info()"
      ]
    },
    {
      "cell_type": "markdown",
      "id": "f1d6e31e",
      "metadata": {
        "id": "f1d6e31e"
      },
      "source": [
        "### Data Pre-Processing"
      ]
    },
    {
      "cell_type": "code",
      "execution_count": null,
      "id": "01d4c66a",
      "metadata": {
        "colab": {
          "base_uri": "https://localhost:8080/"
        },
        "id": "01d4c66a",
        "outputId": "d9d4f4ec-c572-4630-86d6-de650baae5bc"
      },
      "outputs": [
        {
          "output_type": "execute_result",
          "data": {
            "text/plain": [
              "uniqueID          0\n",
              "drugName          0\n",
              "condition      1194\n",
              "review            0\n",
              "rating            0\n",
              "date              0\n",
              "usefulCount       0\n",
              "dtype: int64"
            ]
          },
          "metadata": {},
          "execution_count": 11
        }
      ],
      "source": [
        "# check the null values\n",
        "merged_data.isnull().sum()"
      ]
    },
    {
      "cell_type": "markdown",
      "id": "2b162ee3",
      "metadata": {
        "id": "2b162ee3"
      },
      "source": [
        "We only have null values in condition. We will drop the records with null values as it only accounts for 0.5 % of total data."
      ]
    },
    {
      "cell_type": "code",
      "execution_count": null,
      "id": "c7bb0da0",
      "metadata": {
        "id": "c7bb0da0"
      },
      "outputs": [],
      "source": [
        "# drop the null values\n",
        "merged_data.dropna(inplace=True, axis=0)"
      ]
    },
    {
      "cell_type": "markdown",
      "id": "4a4d138f",
      "metadata": {
        "id": "4a4d138f"
      },
      "source": [
        "#### Pre-Processing Reviews"
      ]
    },
    {
      "cell_type": "markdown",
      "id": "a80e848b",
      "metadata": {
        "id": "a80e848b"
      },
      "source": [
        "Check the first few reviews"
      ]
    },
    {
      "cell_type": "code",
      "execution_count": null,
      "id": "9acfd67c",
      "metadata": {
        "colab": {
          "base_uri": "https://localhost:8080/"
        },
        "id": "9acfd67c",
        "outputId": "9ae380bf-b54e-4fa0-a60e-0f5183ed2c89"
      },
      "outputs": [
        {
          "output_type": "stream",
          "name": "stdout",
          "text": [
            "\"It has no side effect, I take it in combination of Bystolic 5 Mg and Fish Oil\" \n",
            "\n",
            "\"My son is halfway through his fourth week of Intuniv. We became concerned when he began this last week, when he started taking the highest dose he will be on. For two days, he could hardly get out of bed, was very cranky, and slept for nearly 8 hours on a drive home from school vacation (very unusual for him.) I called his doctor on Monday morning and she said to stick it out a few days. See how he did at school, and with getting up in the morning. The last two days have been problem free. He is MUCH more agreeable than ever. He is less emotional (a good thing), less cranky. He is remembering all the things he should. Overall his behavior is better. \r\n",
            "We have tried many different medications and so far this is the most effective.\" \n",
            "\n",
            "\"I used to take another oral contraceptive, which had 21 pill cycle, and was very happy- very light periods, max 5 days, no other side effects. But it contained hormone gestodene, which is not available in US, so I switched to Lybrel, because the ingredients are similar. When my other pills ended, I started Lybrel immediately, on my first day of period, as the instructions said. And the period lasted for two weeks. When taking the second pack- same two weeks. And now, with third pack things got even worse- my third period lasted for two weeks and now it&#039;s the end of the third week- I still have daily brown discharge.\r\n",
            "The positive side is that I didn&#039;t have any other side effects. The idea of being period free was so tempting... Alas.\" \n",
            "\n"
          ]
        }
      ],
      "source": [
        "#check first three reviews\n",
        "for i in merged_data['review'][0:3]:\n",
        "    print(i,'\\n')"
      ]
    },
    {
      "cell_type": "markdown",
      "id": "ebba6578",
      "metadata": {
        "id": "ebba6578"
      },
      "source": [
        "#### Steps for reviews pre-processing"
      ]
    },
    {
      "cell_type": "markdown",
      "id": "2181f804",
      "metadata": {
        "id": "2181f804"
      },
      "source": [
        "- <b>Remove HTML tags</b>\n",
        "    - Using BeautifulSoup from bs4 module to remove the html tags. We   have already removed the html tags with pattern \"64</span>...\", we will use get_text() to remove the html tags if there are any.\n",
        "- <b>Remove Stop Words</b>\n",
        "    - Remove the stopwords like \"a\", \"the\", \"I\" etc.\n",
        "- <b>Remove symbols and special characters</b>\n",
        "    - We will remove the special characters from our reviews like '#' ,'&' ,'@' etc.\n",
        "- <b>Tokenize</b>\n",
        "    - We will tokenize the words. We will split the sentences with spaces e.g \"I might come\" --> \"I\", \"might\", \"come\"\n",
        "- <b>Stemming</b>\n",
        "    -Remove the suffixes from the words to get the root form of the word e.g 'Wording' --> \"Word\""
      ]
    },
    {
      "cell_type": "code",
      "execution_count": null,
      "id": "af27c645",
      "metadata": {
        "colab": {
          "base_uri": "https://localhost:8080/"
        },
        "id": "af27c645",
        "outputId": "fd73e379-dbe4-42ef-c115-b1b5a9f602de"
      },
      "outputs": [
        {
          "output_type": "stream",
          "name": "stderr",
          "text": [
            "[nltk_data] Downloading package stopwords to /root/nltk_data...\n",
            "[nltk_data]   Unzipping corpora/stopwords.zip.\n"
          ]
        }
      ],
      "source": [
        "#import the libraries for pre-processing\n",
        "from bs4 import BeautifulSoup\n",
        "import nltk\n",
        "import re\n",
        "from nltk.corpus import stopwords\n",
        "from nltk.stem.snowball import SnowballStemmer\n",
        "\n",
        "# Download the stop words corpus\n",
        "nltk.download('stopwords')\n",
        "\n",
        "stops = set(stopwords.words('english')) #english stopwords\n",
        "\n",
        "stemmer = SnowballStemmer('english') #SnowballStemmer\n",
        "\n",
        "def review_to_words(raw_review):\n",
        "    # 1. Delete HTML \n",
        "    review_text = BeautifulSoup(raw_review, 'html.parser').get_text()\n",
        "    # 2. Make a space\n",
        "    letters_only = re.sub('[^a-zA-Z]', ' ', review_text)\n",
        "    # 3. lower letters\n",
        "    words = letters_only.lower().split()\n",
        "    # 5. Stopwords \n",
        "    meaningful_words = [w for w in words if not w in stops]\n",
        "    # 6. Stemming\n",
        "    stemming_words = [stemmer.stem(w) for w in meaningful_words]\n",
        "    # 7. space join words\n",
        "    return( ' '.join(stemming_words))"
      ]
    },
    {
      "cell_type": "code",
      "execution_count": null,
      "id": "6187a208",
      "metadata": {
        "id": "6187a208"
      },
      "outputs": [],
      "source": [
        "#apply review_to_words function on reviews\n",
        "merged_data['review'] = merged_data['review'].apply(review_to_words)"
      ]
    },
    {
      "cell_type": "markdown",
      "id": "6c78f904",
      "metadata": {
        "id": "6c78f904"
      },
      "source": [
        "#### Now we will create our target variable \"Sentiment\" from rating"
      ]
    },
    {
      "cell_type": "code",
      "execution_count": null,
      "id": "7ce77e29",
      "metadata": {
        "id": "7ce77e29"
      },
      "outputs": [],
      "source": [
        "#create sentiment feature from ratings\n",
        "#if rating > 5 sentiment = 1 (positive)\n",
        "#if rating < 5 sentiment = 0 (negative)\n",
        "merged_data['sentiment'] = merged_data[\"rating\"].apply(lambda x: 1 if x > 5 else 0)"
      ]
    },
    {
      "cell_type": "markdown",
      "id": "73a71ccc",
      "metadata": {
        "id": "73a71ccc"
      },
      "source": [
        "We will predict the sentiment using the reviews only. So let's start building our model."
      ]
    },
    {
      "cell_type": "markdown",
      "id": "f4c303a7",
      "metadata": {
        "id": "f4c303a7"
      },
      "source": [
        "### Building Model"
      ]
    },
    {
      "cell_type": "code",
      "execution_count": null,
      "id": "6d811555",
      "metadata": {
        "id": "6d811555"
      },
      "outputs": [],
      "source": [
        "#import all the necessary packages\n",
        "\n",
        "from sklearn.model_selection import train_test_split #import train_test_split\n",
        "from sklearn.feature_extraction.text import TfidfVectorizer #import TfidfVectorizer \n",
        "from sklearn.metrics import confusion_matrix #import confusion_matrix\n",
        "from sklearn.naive_bayes import MultinomialNB #import MultinomialNB\n",
        "from sklearn.ensemble import RandomForestClassifier  #import RandomForestClassifier"
      ]
    },
    {
      "cell_type": "markdown",
      "id": "b5423f5e",
      "metadata": {
        "id": "b5423f5e"
      },
      "source": [
        "We all know that we cannot pass raw text features in our model. We have to convert them into numeric values. We will use TfidfVectorizer to convert our reviews in numeric features."
      ]
    },
    {
      "cell_type": "code",
      "execution_count": null,
      "id": "bd3d0cb5",
      "metadata": {
        "colab": {
          "base_uri": "https://localhost:8080/"
        },
        "id": "bd3d0cb5",
        "outputId": "ab13ffd3-a9e2-4160-f590-2469369ecfc2"
      },
      "outputs": [
        {
          "output_type": "execute_result",
          "data": {
            "text/plain": [
              "(213869, 34823)"
            ]
          },
          "metadata": {},
          "execution_count": 19
        }
      ],
      "source": [
        "# Creates TF-IDF vectorizer and transforms the corpus\n",
        "vectorizer = TfidfVectorizer()\n",
        "reviews_corpus = vectorizer.fit_transform(merged_data.review)\n",
        "reviews_corpus.shape"
      ]
    },
    {
      "cell_type": "markdown",
      "id": "8a0cea40",
      "metadata": {
        "id": "8a0cea40"
      },
      "source": [
        "We have built reviews_corpus which are the independent feature in our model."
      ]
    },
    {
      "cell_type": "markdown",
      "id": "591c3afc",
      "metadata": {
        "id": "591c3afc"
      },
      "source": [
        "#### Store Dependent feature in sentiment and split the Data into train and test"
      ]
    },
    {
      "cell_type": "code",
      "execution_count": null,
      "id": "1b80655f",
      "metadata": {
        "colab": {
          "base_uri": "https://localhost:8080/"
        },
        "id": "1b80655f",
        "outputId": "b65842a7-016c-49a7-e113-4b171f869531"
      },
      "outputs": [
        {
          "output_type": "execute_result",
          "data": {
            "text/plain": [
              "(213869,)"
            ]
          },
          "metadata": {},
          "execution_count": 20
        }
      ],
      "source": [
        "#dependent feature\n",
        "sentiment = merged_data['sentiment']\n",
        "sentiment.shape"
      ]
    },
    {
      "cell_type": "code",
      "execution_count": null,
      "id": "dd45c2fd",
      "metadata": {
        "colab": {
          "base_uri": "https://localhost:8080/"
        },
        "id": "dd45c2fd",
        "outputId": "5e10f9bb-63f0-4e56-bc51-7df1162347de"
      },
      "outputs": [
        {
          "output_type": "stream",
          "name": "stdout",
          "text": [
            "Train data shape  (143292, 34823) (143292,)\n",
            "Test data shape  (70577, 34823) (70577,)\n"
          ]
        }
      ],
      "source": [
        "#split the data in train and test\n",
        "from sklearn.model_selection import train_test_split\n",
        "X_train,X_test,Y_train,Y_test = train_test_split(reviews_corpus,sentiment,test_size=0.33,random_state=42)\n",
        "print('Train data shape ',X_train.shape,Y_train.shape)\n",
        "print('Test data shape ',X_test.shape,Y_test.shape)"
      ]
    },
    {
      "cell_type": "markdown",
      "id": "affb592f",
      "metadata": {
        "id": "affb592f"
      },
      "source": [
        "#### Apply Multinomial Naive Bayes"
      ]
    },
    {
      "cell_type": "code",
      "execution_count": null,
      "id": "9be7aa16",
      "metadata": {
        "colab": {
          "base_uri": "https://localhost:8080/"
        },
        "id": "9be7aa16",
        "outputId": "8d3a640d-cdb3-428d-a4d2-3428b5cb5578"
      },
      "outputs": [
        {
          "output_type": "stream",
          "name": "stdout",
          "text": [
            "Accuracy: 0.755203536562903\n",
            "Confusion Matrix\n",
            "[[ 4543   654]\n",
            " [16623 48757]]\n"
          ]
        }
      ],
      "source": [
        "#fit the model and predicct the output\n",
        "\n",
        "clf = MultinomialNB().fit(X_train, Y_train) #fit the training data\n",
        "\n",
        "pred = clf.predict(X_test) #predict the sentiment for test data\n",
        "\n",
        "print(\"Accuracy: %s\" % str(clf.score(X_test, Y_test))) #check accuracy\n",
        "print(\"Confusion Matrix\") \n",
        "print(confusion_matrix(pred, Y_test)) #print confusion matrix"
      ]
    },
    {
      "cell_type": "markdown",
      "id": "22efe9da",
      "metadata": {
        "id": "22efe9da"
      },
      "source": [
        "We have got accuracy score of 75.5% by using NaiveBayes"
      ]
    },
    {
      "cell_type": "markdown",
      "id": "a8214bfc",
      "metadata": {
        "id": "a8214bfc"
      },
      "source": [
        "#### Apply RandomForest"
      ]
    },
    {
      "cell_type": "code",
      "execution_count": null,
      "id": "ce49c610",
      "metadata": {
        "colab": {
          "base_uri": "https://localhost:8080/"
        },
        "id": "ce49c610",
        "outputId": "c8d24b28-abb3-415f-dd22-31e7519ebc93"
      },
      "outputs": [
        {
          "output_type": "stream",
          "name": "stdout",
          "text": [
            "Accuracy: 0.8949657820536435\n",
            "Confusion Matrix\n",
            "[[14257   504]\n",
            " [ 6909 48907]]\n"
          ]
        }
      ],
      "source": [
        "#fit the model and predicct the output\n",
        "\n",
        "clf = RandomForestClassifier().fit(X_train, Y_train)\n",
        "\n",
        "pred = clf.predict(X_test)\n",
        "\n",
        "print(\"Accuracy: %s\" % str(clf.score(X_test, Y_test)))\n",
        "print(\"Confusion Matrix\")\n",
        "print(confusion_matrix(pred, Y_test))"
      ]
    },
    {
      "cell_type": "markdown",
      "id": "cc34250b",
      "metadata": {
        "id": "cc34250b"
      },
      "source": [
        "### Conclusion"
      ]
    },
    {
      "cell_type": "markdown",
      "id": "983de712",
      "metadata": {
        "id": "983de712"
      },
      "source": [
        "After applying the TfidfVectorizer to transform our reviews in Vectors and applying NaiveBayes and RandomForestClassifier we see that RandomForestClassifier outperforms MulinomialNB. We have achieved accuracy of 89.4 % after applying RandomForestClassifier without any parameter tuning. We can tune the parameters of our classifier and improve our accuracy."
      ]
    }
  ],
  "metadata": {
    "kernelspec": {
      "display_name": "Python 3",
      "language": "python",
      "name": "python3"
    },
    "language_info": {
      "codemirror_mode": {
        "name": "ipython",
        "version": 3
      },
      "file_extension": ".py",
      "mimetype": "text/x-python",
      "name": "python",
      "nbconvert_exporter": "python",
      "pygments_lexer": "ipython3",
      "version": "3.8.5"
    },
    "colab": {
      "provenance": [],
      "include_colab_link": true
    }
  },
  "nbformat": 4,
  "nbformat_minor": 5
}