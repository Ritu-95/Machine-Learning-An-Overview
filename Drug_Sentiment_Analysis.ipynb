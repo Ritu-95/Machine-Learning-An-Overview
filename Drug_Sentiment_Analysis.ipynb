{
  "cells": [
    {
      "cell_type": "markdown",
      "metadata": {
        "id": "view-in-github",
        "colab_type": "text"
      },
      "source": [
        "<a href=\"https://colab.research.google.com/github/Ritu-95/Machine-Learning-An-Overview/blob/main/Drug_Sentiment_Analysis.ipynb\" target=\"_parent\"><img src=\"https://colab.research.google.com/assets/colab-badge.svg\" alt=\"Open In Colab\"/></a>"
      ]
    },
    {
      "cell_type": "markdown",
      "id": "778173a0",
      "metadata": {
        "id": "778173a0"
      },
      "source": [
        "# Drug Sentiment Analysis"
      ]
    },
    {
      "cell_type": "markdown",
      "id": "02a14bf7",
      "metadata": {
        "id": "02a14bf7"
      },
      "source": [
        "Drug sentiment analysis is the process of analyzing opinions, emotions, and attitudes expressed in text data about drugs or medications. This analysis can provide valuable insights into how people perceive and use drugs, and it can be useful for drug companies, healthcare providers, and policymakers."
      ]
    },
    {
      "cell_type": "markdown",
      "id": "96692bd5",
      "metadata": {
        "id": "96692bd5"
      },
      "source": [
        "### Problem Statement"
      ]
    },
    {
      "cell_type": "markdown",
      "id": "e2702861",
      "metadata": {
        "id": "e2702861"
      },
      "source": [
        "The problem is to identify the sentiments of the user from their reviews."
      ]
    },
    {
      "cell_type": "markdown",
      "id": "ae9d5d24",
      "metadata": {
        "id": "ae9d5d24"
      },
      "source": [
        "### Data Description :"
      ]
    },
    {
      "cell_type": "markdown",
      "id": "a250e7cf",
      "metadata": {
        "id": "a250e7cf"
      },
      "source": [
        "Data Source: https://archive.ics.uci.edu/ml/datasets/Drug+Review+Dataset+%28Drugs.com%29"
      ]
    },
    {
      "cell_type": "markdown",
      "id": "2230863e",
      "metadata": {
        "id": "2230863e"
      },
      "source": [
        "- drugName (categorical): name of drug\n",
        "- condition (categorical): name of condition\n",
        "- review (text): patient review\n",
        "- rating (numerical): 10 star patient rating\n",
        "- date (date): date of review entry\n",
        "- usefulCount (numerical): number of users who found review useful"
      ]
    },
    {
      "cell_type": "markdown",
      "id": "b90b749b",
      "metadata": {
        "id": "b90b749b"
      },
      "source": [
        "The structure of the data is that a patient with a unique ID purchases a drug that meets his condition and writes a review and rating for the drug he/she purchased on the date. Afterwards, if the others read that review and find it helpful, they will click usefulCount, which will add 1 for the variable."
      ]
    },
    {
      "cell_type": "code",
      "execution_count": 19,
      "id": "e19a958f",
      "metadata": {
        "id": "e19a958f"
      },
      "outputs": [],
      "source": [
        "#import all the necessary packages\n",
        "\n",
        "import matplotlib.pyplot as plt\n",
        "import numpy as np\n",
        "import pandas as pd\n",
        "import seaborn as sns\n",
        "%matplotlib inline\n",
        "from matplotlib import style\n",
        "style.use('ggplot')"
      ]
    },
    {
      "cell_type": "code",
      "execution_count": 30,
      "id": "f422ac0b",
      "metadata": {
        "id": "f422ac0b"
      },
      "outputs": [],
      "source": [
        "#read the train and test data\n",
        "import csv\n",
        "train = pd.read_csv('drugsComTrain_raw.tsv', sep='\\t',quoting=csv.QUOTE_NONE, encoding='utf-8') #train data\n",
        "test = pd.read_csv('drugsComTest_raw.tsv', sep='\\t',quoting=csv.QUOTE_NONE, encoding='utf-8') #test data"
      ]
    },
    {
      "cell_type": "code",
      "execution_count": 31,
      "id": "b30a8674",
      "metadata": {
        "id": "b30a8674"
      },
      "outputs": [],
      "source": [
        "#rename the first column\n",
        "\n",
        "train.rename(columns={'Unnamed: 0': 'uniqueID'}, inplace=True)\n",
        "test.rename(columns={'Unnamed: 0': 'uniqueID'}, inplace=True)"
      ]
    },
    {
      "cell_type": "code",
      "execution_count": 32,
      "id": "fdb8ebbc",
      "metadata": {
        "colab": {
          "base_uri": "https://localhost:8080/",
          "height": 337
        },
        "id": "fdb8ebbc",
        "outputId": "0f373082-9f73-4895-e811-0484cfbd2f14"
      },
      "outputs": [
        {
          "output_type": "execute_result",
          "data": {
            "text/plain": [
              "                                            uniqueID    drugName  \\\n",
              "0                                             206461   Valsartan   \n",
              "1                                              95260  Guanfacine   \n",
              "2  We have tried many different medications and s...         8.0   \n",
              "3                                              92703      Lybrel   \n",
              "4  The positive side is that I didn&#039;t have a...         5.0   \n",
              "\n",
              "                      condition  \\\n",
              "0  Left Ventricular Dysfunction   \n",
              "1                          ADHD   \n",
              "2                April 27, 2010   \n",
              "3                 Birth Control   \n",
              "4             December 14, 2009   \n",
              "\n",
              "                                              review  rating          date  \\\n",
              "0  \"\"\"It has no side effect, I take it in combina...     9.0  May 20, 2012   \n",
              "1  \"\"\"My son is halfway through his fourth week o...     NaN           NaN   \n",
              "2                                                192     NaN           NaN   \n",
              "3  \"\"\"I used to take another oral contraceptive, ...     NaN           NaN   \n",
              "4                                                 17     NaN           NaN   \n",
              "\n",
              "   usefulCount  \n",
              "0         27.0  \n",
              "1          NaN  \n",
              "2          NaN  \n",
              "3          NaN  \n",
              "4          NaN  "
            ],
            "text/html": [
              "\n",
              "  <div id=\"df-34b096de-ad8e-4142-a569-62a03b463631\">\n",
              "    <div class=\"colab-df-container\">\n",
              "      <div>\n",
              "<style scoped>\n",
              "    .dataframe tbody tr th:only-of-type {\n",
              "        vertical-align: middle;\n",
              "    }\n",
              "\n",
              "    .dataframe tbody tr th {\n",
              "        vertical-align: top;\n",
              "    }\n",
              "\n",
              "    .dataframe thead th {\n",
              "        text-align: right;\n",
              "    }\n",
              "</style>\n",
              "<table border=\"1\" class=\"dataframe\">\n",
              "  <thead>\n",
              "    <tr style=\"text-align: right;\">\n",
              "      <th></th>\n",
              "      <th>uniqueID</th>\n",
              "      <th>drugName</th>\n",
              "      <th>condition</th>\n",
              "      <th>review</th>\n",
              "      <th>rating</th>\n",
              "      <th>date</th>\n",
              "      <th>usefulCount</th>\n",
              "    </tr>\n",
              "  </thead>\n",
              "  <tbody>\n",
              "    <tr>\n",
              "      <th>0</th>\n",
              "      <td>206461</td>\n",
              "      <td>Valsartan</td>\n",
              "      <td>Left Ventricular Dysfunction</td>\n",
              "      <td>\"\"\"It has no side effect, I take it in combina...</td>\n",
              "      <td>9.0</td>\n",
              "      <td>May 20, 2012</td>\n",
              "      <td>27.0</td>\n",
              "    </tr>\n",
              "    <tr>\n",
              "      <th>1</th>\n",
              "      <td>95260</td>\n",
              "      <td>Guanfacine</td>\n",
              "      <td>ADHD</td>\n",
              "      <td>\"\"\"My son is halfway through his fourth week o...</td>\n",
              "      <td>NaN</td>\n",
              "      <td>NaN</td>\n",
              "      <td>NaN</td>\n",
              "    </tr>\n",
              "    <tr>\n",
              "      <th>2</th>\n",
              "      <td>We have tried many different medications and s...</td>\n",
              "      <td>8.0</td>\n",
              "      <td>April 27, 2010</td>\n",
              "      <td>192</td>\n",
              "      <td>NaN</td>\n",
              "      <td>NaN</td>\n",
              "      <td>NaN</td>\n",
              "    </tr>\n",
              "    <tr>\n",
              "      <th>3</th>\n",
              "      <td>92703</td>\n",
              "      <td>Lybrel</td>\n",
              "      <td>Birth Control</td>\n",
              "      <td>\"\"\"I used to take another oral contraceptive, ...</td>\n",
              "      <td>NaN</td>\n",
              "      <td>NaN</td>\n",
              "      <td>NaN</td>\n",
              "    </tr>\n",
              "    <tr>\n",
              "      <th>4</th>\n",
              "      <td>The positive side is that I didn&amp;#039;t have a...</td>\n",
              "      <td>5.0</td>\n",
              "      <td>December 14, 2009</td>\n",
              "      <td>17</td>\n",
              "      <td>NaN</td>\n",
              "      <td>NaN</td>\n",
              "      <td>NaN</td>\n",
              "    </tr>\n",
              "  </tbody>\n",
              "</table>\n",
              "</div>\n",
              "      <button class=\"colab-df-convert\" onclick=\"convertToInteractive('df-34b096de-ad8e-4142-a569-62a03b463631')\"\n",
              "              title=\"Convert this dataframe to an interactive table.\"\n",
              "              style=\"display:none;\">\n",
              "        \n",
              "  <svg xmlns=\"http://www.w3.org/2000/svg\" height=\"24px\"viewBox=\"0 0 24 24\"\n",
              "       width=\"24px\">\n",
              "    <path d=\"M0 0h24v24H0V0z\" fill=\"none\"/>\n",
              "    <path d=\"M18.56 5.44l.94 2.06.94-2.06 2.06-.94-2.06-.94-.94-2.06-.94 2.06-2.06.94zm-11 1L8.5 8.5l.94-2.06 2.06-.94-2.06-.94L8.5 2.5l-.94 2.06-2.06.94zm10 10l.94 2.06.94-2.06 2.06-.94-2.06-.94-.94-2.06-.94 2.06-2.06.94z\"/><path d=\"M17.41 7.96l-1.37-1.37c-.4-.4-.92-.59-1.43-.59-.52 0-1.04.2-1.43.59L10.3 9.45l-7.72 7.72c-.78.78-.78 2.05 0 2.83L4 21.41c.39.39.9.59 1.41.59.51 0 1.02-.2 1.41-.59l7.78-7.78 2.81-2.81c.8-.78.8-2.07 0-2.86zM5.41 20L4 18.59l7.72-7.72 1.47 1.35L5.41 20z\"/>\n",
              "  </svg>\n",
              "      </button>\n",
              "      \n",
              "  <style>\n",
              "    .colab-df-container {\n",
              "      display:flex;\n",
              "      flex-wrap:wrap;\n",
              "      gap: 12px;\n",
              "    }\n",
              "\n",
              "    .colab-df-convert {\n",
              "      background-color: #E8F0FE;\n",
              "      border: none;\n",
              "      border-radius: 50%;\n",
              "      cursor: pointer;\n",
              "      display: none;\n",
              "      fill: #1967D2;\n",
              "      height: 32px;\n",
              "      padding: 0 0 0 0;\n",
              "      width: 32px;\n",
              "    }\n",
              "\n",
              "    .colab-df-convert:hover {\n",
              "      background-color: #E2EBFA;\n",
              "      box-shadow: 0px 1px 2px rgba(60, 64, 67, 0.3), 0px 1px 3px 1px rgba(60, 64, 67, 0.15);\n",
              "      fill: #174EA6;\n",
              "    }\n",
              "\n",
              "    [theme=dark] .colab-df-convert {\n",
              "      background-color: #3B4455;\n",
              "      fill: #D2E3FC;\n",
              "    }\n",
              "\n",
              "    [theme=dark] .colab-df-convert:hover {\n",
              "      background-color: #434B5C;\n",
              "      box-shadow: 0px 1px 3px 1px rgba(0, 0, 0, 0.15);\n",
              "      filter: drop-shadow(0px 1px 2px rgba(0, 0, 0, 0.3));\n",
              "      fill: #FFFFFF;\n",
              "    }\n",
              "  </style>\n",
              "\n",
              "      <script>\n",
              "        const buttonEl =\n",
              "          document.querySelector('#df-34b096de-ad8e-4142-a569-62a03b463631 button.colab-df-convert');\n",
              "        buttonEl.style.display =\n",
              "          google.colab.kernel.accessAllowed ? 'block' : 'none';\n",
              "\n",
              "        async function convertToInteractive(key) {\n",
              "          const element = document.querySelector('#df-34b096de-ad8e-4142-a569-62a03b463631');\n",
              "          const dataTable =\n",
              "            await google.colab.kernel.invokeFunction('convertToInteractive',\n",
              "                                                     [key], {});\n",
              "          if (!dataTable) return;\n",
              "\n",
              "          const docLinkHtml = 'Like what you see? Visit the ' +\n",
              "            '<a target=\"_blank\" href=https://colab.research.google.com/notebooks/data_table.ipynb>data table notebook</a>'\n",
              "            + ' to learn more about interactive tables.';\n",
              "          element.innerHTML = '';\n",
              "          dataTable['output_type'] = 'display_data';\n",
              "          await google.colab.output.renderOutput(dataTable, element);\n",
              "          const docLink = document.createElement('div');\n",
              "          docLink.innerHTML = docLinkHtml;\n",
              "          element.appendChild(docLink);\n",
              "        }\n",
              "      </script>\n",
              "    </div>\n",
              "  </div>\n",
              "  "
            ]
          },
          "metadata": {},
          "execution_count": 32
        }
      ],
      "source": [
        "#check the head of train data\n",
        "train.head()"
      ]
    },
    {
      "cell_type": "code",
      "execution_count": 33,
      "id": "c48f6e09",
      "metadata": {
        "colab": {
          "base_uri": "https://localhost:8080/",
          "height": 302
        },
        "id": "c48f6e09",
        "outputId": "eda70b7c-2c27-4e25-f728-c3db69d23015"
      },
      "outputs": [
        {
          "output_type": "execute_result",
          "data": {
            "text/plain": [
              "  uniqueID         drugName                     condition  \\\n",
              "0   163740      Mirtazapine                    Depression   \n",
              "1   206473       Mesalamine  Crohn's Disease, Maintenance   \n",
              "2   159672          Bactrim       Urinary Tract Infection   \n",
              "3    39293         Contrave                   Weight Loss   \n",
              "4    97768  Cyclafem 1 / 35                 Birth Control   \n",
              "\n",
              "                                              review rating  \\\n",
              "0  \"\"\"I&#039;ve tried a few antidepressants over ...   10.0   \n",
              "1  \"\"\"My son has Crohn&#039;s disease and has don...    8.0   \n",
              "2                  \"\"\"Quick reduction of symptoms\"\"\"    9.0   \n",
              "3  \"\"\"Contrave combines drugs that were used for ...    9.0   \n",
              "4  \"\"\"I have been on this birth control for one c...    9.0   \n",
              "\n",
              "                 date  usefulCount  \n",
              "0   February 28, 2012         22.0  \n",
              "1        May 17, 2009         17.0  \n",
              "2  September 29, 2017          3.0  \n",
              "3       March 5, 2017         35.0  \n",
              "4    October 22, 2015          4.0  "
            ],
            "text/html": [
              "\n",
              "  <div id=\"df-32145797-09b1-4d34-8855-e5c9d5b93931\">\n",
              "    <div class=\"colab-df-container\">\n",
              "      <div>\n",
              "<style scoped>\n",
              "    .dataframe tbody tr th:only-of-type {\n",
              "        vertical-align: middle;\n",
              "    }\n",
              "\n",
              "    .dataframe tbody tr th {\n",
              "        vertical-align: top;\n",
              "    }\n",
              "\n",
              "    .dataframe thead th {\n",
              "        text-align: right;\n",
              "    }\n",
              "</style>\n",
              "<table border=\"1\" class=\"dataframe\">\n",
              "  <thead>\n",
              "    <tr style=\"text-align: right;\">\n",
              "      <th></th>\n",
              "      <th>uniqueID</th>\n",
              "      <th>drugName</th>\n",
              "      <th>condition</th>\n",
              "      <th>review</th>\n",
              "      <th>rating</th>\n",
              "      <th>date</th>\n",
              "      <th>usefulCount</th>\n",
              "    </tr>\n",
              "  </thead>\n",
              "  <tbody>\n",
              "    <tr>\n",
              "      <th>0</th>\n",
              "      <td>163740</td>\n",
              "      <td>Mirtazapine</td>\n",
              "      <td>Depression</td>\n",
              "      <td>\"\"\"I&amp;#039;ve tried a few antidepressants over ...</td>\n",
              "      <td>10.0</td>\n",
              "      <td>February 28, 2012</td>\n",
              "      <td>22.0</td>\n",
              "    </tr>\n",
              "    <tr>\n",
              "      <th>1</th>\n",
              "      <td>206473</td>\n",
              "      <td>Mesalamine</td>\n",
              "      <td>Crohn's Disease, Maintenance</td>\n",
              "      <td>\"\"\"My son has Crohn&amp;#039;s disease and has don...</td>\n",
              "      <td>8.0</td>\n",
              "      <td>May 17, 2009</td>\n",
              "      <td>17.0</td>\n",
              "    </tr>\n",
              "    <tr>\n",
              "      <th>2</th>\n",
              "      <td>159672</td>\n",
              "      <td>Bactrim</td>\n",
              "      <td>Urinary Tract Infection</td>\n",
              "      <td>\"\"\"Quick reduction of symptoms\"\"\"</td>\n",
              "      <td>9.0</td>\n",
              "      <td>September 29, 2017</td>\n",
              "      <td>3.0</td>\n",
              "    </tr>\n",
              "    <tr>\n",
              "      <th>3</th>\n",
              "      <td>39293</td>\n",
              "      <td>Contrave</td>\n",
              "      <td>Weight Loss</td>\n",
              "      <td>\"\"\"Contrave combines drugs that were used for ...</td>\n",
              "      <td>9.0</td>\n",
              "      <td>March 5, 2017</td>\n",
              "      <td>35.0</td>\n",
              "    </tr>\n",
              "    <tr>\n",
              "      <th>4</th>\n",
              "      <td>97768</td>\n",
              "      <td>Cyclafem 1 / 35</td>\n",
              "      <td>Birth Control</td>\n",
              "      <td>\"\"\"I have been on this birth control for one c...</td>\n",
              "      <td>9.0</td>\n",
              "      <td>October 22, 2015</td>\n",
              "      <td>4.0</td>\n",
              "    </tr>\n",
              "  </tbody>\n",
              "</table>\n",
              "</div>\n",
              "      <button class=\"colab-df-convert\" onclick=\"convertToInteractive('df-32145797-09b1-4d34-8855-e5c9d5b93931')\"\n",
              "              title=\"Convert this dataframe to an interactive table.\"\n",
              "              style=\"display:none;\">\n",
              "        \n",
              "  <svg xmlns=\"http://www.w3.org/2000/svg\" height=\"24px\"viewBox=\"0 0 24 24\"\n",
              "       width=\"24px\">\n",
              "    <path d=\"M0 0h24v24H0V0z\" fill=\"none\"/>\n",
              "    <path d=\"M18.56 5.44l.94 2.06.94-2.06 2.06-.94-2.06-.94-.94-2.06-.94 2.06-2.06.94zm-11 1L8.5 8.5l.94-2.06 2.06-.94-2.06-.94L8.5 2.5l-.94 2.06-2.06.94zm10 10l.94 2.06.94-2.06 2.06-.94-2.06-.94-.94-2.06-.94 2.06-2.06.94z\"/><path d=\"M17.41 7.96l-1.37-1.37c-.4-.4-.92-.59-1.43-.59-.52 0-1.04.2-1.43.59L10.3 9.45l-7.72 7.72c-.78.78-.78 2.05 0 2.83L4 21.41c.39.39.9.59 1.41.59.51 0 1.02-.2 1.41-.59l7.78-7.78 2.81-2.81c.8-.78.8-2.07 0-2.86zM5.41 20L4 18.59l7.72-7.72 1.47 1.35L5.41 20z\"/>\n",
              "  </svg>\n",
              "      </button>\n",
              "      \n",
              "  <style>\n",
              "    .colab-df-container {\n",
              "      display:flex;\n",
              "      flex-wrap:wrap;\n",
              "      gap: 12px;\n",
              "    }\n",
              "\n",
              "    .colab-df-convert {\n",
              "      background-color: #E8F0FE;\n",
              "      border: none;\n",
              "      border-radius: 50%;\n",
              "      cursor: pointer;\n",
              "      display: none;\n",
              "      fill: #1967D2;\n",
              "      height: 32px;\n",
              "      padding: 0 0 0 0;\n",
              "      width: 32px;\n",
              "    }\n",
              "\n",
              "    .colab-df-convert:hover {\n",
              "      background-color: #E2EBFA;\n",
              "      box-shadow: 0px 1px 2px rgba(60, 64, 67, 0.3), 0px 1px 3px 1px rgba(60, 64, 67, 0.15);\n",
              "      fill: #174EA6;\n",
              "    }\n",
              "\n",
              "    [theme=dark] .colab-df-convert {\n",
              "      background-color: #3B4455;\n",
              "      fill: #D2E3FC;\n",
              "    }\n",
              "\n",
              "    [theme=dark] .colab-df-convert:hover {\n",
              "      background-color: #434B5C;\n",
              "      box-shadow: 0px 1px 3px 1px rgba(0, 0, 0, 0.15);\n",
              "      filter: drop-shadow(0px 1px 2px rgba(0, 0, 0, 0.3));\n",
              "      fill: #FFFFFF;\n",
              "    }\n",
              "  </style>\n",
              "\n",
              "      <script>\n",
              "        const buttonEl =\n",
              "          document.querySelector('#df-32145797-09b1-4d34-8855-e5c9d5b93931 button.colab-df-convert');\n",
              "        buttonEl.style.display =\n",
              "          google.colab.kernel.accessAllowed ? 'block' : 'none';\n",
              "\n",
              "        async function convertToInteractive(key) {\n",
              "          const element = document.querySelector('#df-32145797-09b1-4d34-8855-e5c9d5b93931');\n",
              "          const dataTable =\n",
              "            await google.colab.kernel.invokeFunction('convertToInteractive',\n",
              "                                                     [key], {});\n",
              "          if (!dataTable) return;\n",
              "\n",
              "          const docLinkHtml = 'Like what you see? Visit the ' +\n",
              "            '<a target=\"_blank\" href=https://colab.research.google.com/notebooks/data_table.ipynb>data table notebook</a>'\n",
              "            + ' to learn more about interactive tables.';\n",
              "          element.innerHTML = '';\n",
              "          dataTable['output_type'] = 'display_data';\n",
              "          await google.colab.output.renderOutput(dataTable, element);\n",
              "          const docLink = document.createElement('div');\n",
              "          docLink.innerHTML = docLinkHtml;\n",
              "          element.appendChild(docLink);\n",
              "        }\n",
              "      </script>\n",
              "    </div>\n",
              "  </div>\n",
              "  "
            ]
          },
          "metadata": {},
          "execution_count": 33
        }
      ],
      "source": [
        "#check the head of test data\n",
        "test.head()"
      ]
    },
    {
      "cell_type": "markdown",
      "id": "b4080c68",
      "metadata": {
        "id": "b4080c68"
      },
      "source": [
        "By looking at the head of train and test data we see that there are 7 features in our Dataset but we don't have any sentiment feature which can serve as our target variable. We will make a target feature out of rating. If Rating is greater than 5 we will assign it as positive else we will assign it as negative."
      ]
    },
    {
      "cell_type": "code",
      "execution_count": 34,
      "id": "6103910d",
      "metadata": {
        "colab": {
          "base_uri": "https://localhost:8080/"
        },
        "id": "6103910d",
        "outputId": "d690d16d-399b-4a06-e59e-ba4e3ccbaa11"
      },
      "outputs": [
        {
          "output_type": "stream",
          "name": "stdout",
          "text": [
            "train has 83500 number of rows and 7 number of columns\n",
            "train has 65987 number of rows and 7 number of columns\n"
          ]
        }
      ],
      "source": [
        "#check the shape of the given dataset\n",
        "print(f'train has {train.shape[0]} number of rows and {train.shape[1]} number of columns')\n",
        "print(f'train has {test.shape[0]} number of rows and {test.shape[1]} number of columns')"
      ]
    },
    {
      "cell_type": "code",
      "execution_count": 35,
      "id": "ac9b92ce",
      "metadata": {
        "colab": {
          "base_uri": "https://localhost:8080/"
        },
        "id": "ac9b92ce",
        "outputId": "8362d09c-1413-4d9f-873b-4f2bb5b0fc60"
      },
      "outputs": [
        {
          "output_type": "execute_result",
          "data": {
            "text/plain": [
              "Index(['uniqueID', 'drugName', 'condition', 'review', 'rating', 'date',\n",
              "       'usefulCount'],\n",
              "      dtype='object')"
            ]
          },
          "metadata": {},
          "execution_count": 35
        }
      ],
      "source": [
        "#check the columns in train\n",
        "train.columns"
      ]
    },
    {
      "cell_type": "markdown",
      "id": "84ee1932",
      "metadata": {
        "id": "84ee1932"
      },
      "source": [
        "### Exploratory Data Analysis"
      ]
    },
    {
      "cell_type": "markdown",
      "id": "74138ac7",
      "metadata": {
        "id": "74138ac7"
      },
      "source": [
        "Merge the train and test data as there are no target labels. We will perform our EDA and Pre-processing on merged data. Then we will dive the data into 70 : 30 ratio for training and testing"
      ]
    },
    {
      "cell_type": "code",
      "execution_count": 36,
      "id": "449e94aa",
      "metadata": {
        "colab": {
          "base_uri": "https://localhost:8080/"
        },
        "id": "449e94aa",
        "outputId": "ac84442d-844d-4a08-e8d9-d0d8d83f29d3"
      },
      "outputs": [
        {
          "output_type": "execute_result",
          "data": {
            "text/plain": [
              "(149487, 7)"
            ]
          },
          "metadata": {},
          "execution_count": 36
        }
      ],
      "source": [
        "#merge train and test data\n",
        "\n",
        "merge = [train,test]\n",
        "merged_data = pd.concat(merge,ignore_index=True)\n",
        "\n",
        "merged_data.shape   #check the shape of merged_data"
      ]
    },
    {
      "cell_type": "markdown",
      "id": "1ffeb21d",
      "metadata": {
        "id": "1ffeb21d"
      },
      "source": [
        "##### Check number of uniqueIds to see if there's any duplicate record in our dataset"
      ]
    },
    {
      "cell_type": "code",
      "execution_count": 48,
      "id": "074f2190",
      "metadata": {
        "id": "074f2190"
      },
      "outputs": [],
      "source": [
        "#check uniqueID\n",
        "merged_data['uniqueID'].nunique()\n",
        "merged_data['rating']=merged_data['rating'].astype(float)"
      ]
    },
    {
      "cell_type": "markdown",
      "id": "561d7967",
      "metadata": {
        "id": "561d7967"
      },
      "source": [
        "There are 215063 uniqueIds meaning that every record is unique."
      ]
    },
    {
      "cell_type": "markdown",
      "id": "ed318a0b",
      "metadata": {
        "id": "ed318a0b"
      },
      "source": [
        "##### Check information of the merged data"
      ]
    },
    {
      "cell_type": "code",
      "execution_count": 49,
      "id": "9589236d",
      "metadata": {
        "colab": {
          "base_uri": "https://localhost:8080/"
        },
        "id": "9589236d",
        "outputId": "2ba988c5-c153-459e-f16c-373593f65adb"
      },
      "outputs": [
        {
          "output_type": "stream",
          "name": "stdout",
          "text": [
            "<class 'pandas.core.frame.DataFrame'>\n",
            "Int64Index: 107696 entries, 0 to 149486\n",
            "Data columns (total 7 columns):\n",
            " #   Column       Non-Null Count   Dtype  \n",
            "---  ------       --------------   -----  \n",
            " 0   uniqueID     107696 non-null  object \n",
            " 1   drugName     107696 non-null  object \n",
            " 2   condition    107696 non-null  object \n",
            " 3   review       107696 non-null  object \n",
            " 4   rating       107696 non-null  float64\n",
            " 5   date         107696 non-null  object \n",
            " 6   usefulCount  107696 non-null  float64\n",
            "dtypes: float64(2), object(5)\n",
            "memory usage: 6.6+ MB\n"
          ]
        }
      ],
      "source": [
        "merged_data.info()"
      ]
    },
    {
      "cell_type": "markdown",
      "id": "f1d6e31e",
      "metadata": {
        "id": "f1d6e31e"
      },
      "source": [
        "### Data Pre-Processing"
      ]
    },
    {
      "cell_type": "code",
      "execution_count": 50,
      "id": "01d4c66a",
      "metadata": {
        "colab": {
          "base_uri": "https://localhost:8080/"
        },
        "id": "01d4c66a",
        "outputId": "69cecffb-2c56-48ca-c45d-e1a8f384a4ab"
      },
      "outputs": [
        {
          "output_type": "execute_result",
          "data": {
            "text/plain": [
              "uniqueID       0\n",
              "drugName       0\n",
              "condition      0\n",
              "review         0\n",
              "rating         0\n",
              "date           0\n",
              "usefulCount    0\n",
              "dtype: int64"
            ]
          },
          "metadata": {},
          "execution_count": 50
        }
      ],
      "source": [
        "# check the null values\n",
        "merged_data.isnull().sum()"
      ]
    },
    {
      "cell_type": "markdown",
      "id": "2b162ee3",
      "metadata": {
        "id": "2b162ee3"
      },
      "source": [
        "We only have null values in condition. We will drop the records with null values as it only accounts for 0.5 % of total data."
      ]
    },
    {
      "cell_type": "code",
      "execution_count": 51,
      "id": "c7bb0da0",
      "metadata": {
        "id": "c7bb0da0"
      },
      "outputs": [],
      "source": [
        "# drop the null values\n",
        "merged_data.dropna(inplace=True, axis=0)"
      ]
    },
    {
      "cell_type": "markdown",
      "id": "4a4d138f",
      "metadata": {
        "id": "4a4d138f"
      },
      "source": [
        "#### Pre-Processing Reviews"
      ]
    },
    {
      "cell_type": "markdown",
      "id": "a80e848b",
      "metadata": {
        "id": "a80e848b"
      },
      "source": [
        "Check the first few reviews"
      ]
    },
    {
      "cell_type": "code",
      "execution_count": 52,
      "id": "9acfd67c",
      "metadata": {
        "colab": {
          "base_uri": "https://localhost:8080/"
        },
        "id": "9acfd67c",
        "outputId": "62dc93a9-8ba4-4953-8f96-f442cfb4531e"
      },
      "outputs": [
        {
          "output_type": "stream",
          "name": "stdout",
          "text": [
            "side effect take combin bystol mg fish oil \n",
            "\n",
            "first time use form birth control glad went patch month first decrea libido subsid downsid made period longer day exact use period day max also made cramp inten first two day period never cramp use birth control happi patch \n",
            "\n",
            "suboxon complet turn life around feel healthier excel job alway money pocket save account none suboxon spent year abus oxycontin paycheck alreadi spent time got start resort scheme steal fund addict histori readi stop good chanc suboxon put path great life found side effect minim compar oxycontin actual sleep better slight constip truli amaz cost pale comparison spent oxycontin \n",
            "\n"
          ]
        }
      ],
      "source": [
        "#check first three reviews\n",
        "for i in merged_data['review'][0:3]:\n",
        "    print(i,'\\n')"
      ]
    },
    {
      "cell_type": "markdown",
      "id": "ebba6578",
      "metadata": {
        "id": "ebba6578"
      },
      "source": [
        "#### Steps for reviews pre-processing"
      ]
    },
    {
      "cell_type": "markdown",
      "id": "2181f804",
      "metadata": {
        "id": "2181f804"
      },
      "source": [
        "- <b>Remove HTML tags</b>\n",
        "    - Using BeautifulSoup from bs4 module to remove the html tags. We   have already removed the html tags with pattern \"64</span>...\", we will use get_text() to remove the html tags if there are any.\n",
        "- <b>Remove Stop Words</b>\n",
        "    - Remove the stopwords like \"a\", \"the\", \"I\" etc.\n",
        "- <b>Remove symbols and special characters</b>\n",
        "    - We will remove the special characters from our reviews like '#' ,'&' ,'@' etc.\n",
        "- <b>Tokenize</b>\n",
        "    - We will tokenize the words. We will split the sentences with spaces e.g \"I might come\" --> \"I\", \"might\", \"come\"\n",
        "- <b>Stemming</b>\n",
        "    -Remove the suffixes from the words to get the root form of the word e.g 'Wording' --> \"Word\""
      ]
    },
    {
      "cell_type": "code",
      "execution_count": 53,
      "id": "af27c645",
      "metadata": {
        "colab": {
          "base_uri": "https://localhost:8080/"
        },
        "id": "af27c645",
        "outputId": "c0265825-dbf4-4da4-d47e-e94a2bed7417"
      },
      "outputs": [
        {
          "output_type": "stream",
          "name": "stderr",
          "text": [
            "[nltk_data] Downloading package stopwords to /root/nltk_data...\n",
            "[nltk_data]   Package stopwords is already up-to-date!\n"
          ]
        }
      ],
      "source": [
        "#import the libraries for pre-processing\n",
        "from bs4 import BeautifulSoup\n",
        "import nltk\n",
        "import re\n",
        "from nltk.corpus import stopwords\n",
        "from nltk.stem.snowball import SnowballStemmer\n",
        "\n",
        "# Download the stop words corpus\n",
        "nltk.download('stopwords')\n",
        "\n",
        "stops = set(stopwords.words('english')) #english stopwords\n",
        "\n",
        "stemmer = SnowballStemmer('english') #SnowballStemmer\n",
        "\n",
        "def review_to_words(raw_review):\n",
        "    # 1. Delete HTML \n",
        "    review_text = BeautifulSoup(raw_review, 'html.parser').get_text()\n",
        "    # 2. Make a space\n",
        "    letters_only = re.sub('[^a-zA-Z]', ' ', review_text)\n",
        "    # 3. lower letters\n",
        "    words = letters_only.lower().split()\n",
        "    # 5. Stopwords \n",
        "    meaningful_words = [w for w in words if not w in stops]\n",
        "    # 6. Stemming\n",
        "    stemming_words = [stemmer.stem(w) for w in meaningful_words]\n",
        "    # 7. space join words\n",
        "    return( ' '.join(stemming_words))"
      ]
    },
    {
      "cell_type": "code",
      "execution_count": 54,
      "id": "6187a208",
      "metadata": {
        "id": "6187a208"
      },
      "outputs": [],
      "source": [
        "#apply review_to_words function on reviews\n",
        "merged_data['review'] = merged_data['review'].apply(review_to_words)"
      ]
    },
    {
      "cell_type": "markdown",
      "id": "6c78f904",
      "metadata": {
        "id": "6c78f904"
      },
      "source": [
        "#### Now we will create our target variable \"Sentiment\" from rating"
      ]
    },
    {
      "cell_type": "code",
      "execution_count": 55,
      "id": "7ce77e29",
      "metadata": {
        "id": "7ce77e29"
      },
      "outputs": [],
      "source": [
        "#create sentiment feature from ratings\n",
        "#if rating > 5 sentiment = 1 (positive)\n",
        "#if rating < 5 sentiment = 0 (negative)\n",
        "merged_data['sentiment'] = merged_data[\"rating\"].apply(lambda x: 1 if x > 5 else 0)"
      ]
    },
    {
      "cell_type": "markdown",
      "id": "73a71ccc",
      "metadata": {
        "id": "73a71ccc"
      },
      "source": [
        "We will predict the sentiment using the reviews only. So let's start building our model."
      ]
    },
    {
      "cell_type": "markdown",
      "id": "f4c303a7",
      "metadata": {
        "id": "f4c303a7"
      },
      "source": [
        "### Building Model"
      ]
    },
    {
      "cell_type": "code",
      "execution_count": 56,
      "id": "6d811555",
      "metadata": {
        "id": "6d811555"
      },
      "outputs": [],
      "source": [
        "#import all the necessary packages\n",
        "\n",
        "from sklearn.model_selection import train_test_split #import train_test_split\n",
        "from sklearn.feature_extraction.text import TfidfVectorizer #import TfidfVectorizer \n",
        "from sklearn.metrics import confusion_matrix #import confusion_matrix\n",
        "from sklearn.naive_bayes import MultinomialNB #import MultinomialNB\n",
        "from sklearn.ensemble import RandomForestClassifier  #import RandomForestClassifier"
      ]
    },
    {
      "cell_type": "markdown",
      "id": "b5423f5e",
      "metadata": {
        "id": "b5423f5e"
      },
      "source": [
        "We all know that we cannot pass raw text features in our model. We have to convert them into numeric values. We will use TfidfVectorizer to convert our reviews in numeric features."
      ]
    },
    {
      "cell_type": "code",
      "execution_count": 57,
      "id": "bd3d0cb5",
      "metadata": {
        "colab": {
          "base_uri": "https://localhost:8080/"
        },
        "id": "bd3d0cb5",
        "outputId": "e2275e15-1af4-444b-f464-e4c096968afd"
      },
      "outputs": [
        {
          "output_type": "execute_result",
          "data": {
            "text/plain": [
              "(107696, 26211)"
            ]
          },
          "metadata": {},
          "execution_count": 57
        }
      ],
      "source": [
        "# Creates TF-IDF vectorizer and transforms the corpus\n",
        "vectorizer = TfidfVectorizer()\n",
        "reviews_corpus = vectorizer.fit_transform(merged_data.review)\n",
        "reviews_corpus.shape"
      ]
    },
    {
      "cell_type": "markdown",
      "id": "8a0cea40",
      "metadata": {
        "id": "8a0cea40"
      },
      "source": [
        "We have built reviews_corpus which are the independent feature in our model."
      ]
    },
    {
      "cell_type": "markdown",
      "id": "591c3afc",
      "metadata": {
        "id": "591c3afc"
      },
      "source": [
        "#### Store Dependent feature in sentiment and split the Data into train and test"
      ]
    },
    {
      "cell_type": "code",
      "execution_count": 58,
      "id": "1b80655f",
      "metadata": {
        "colab": {
          "base_uri": "https://localhost:8080/"
        },
        "id": "1b80655f",
        "outputId": "272ce517-974e-47be-d9c2-fc3ca292df32"
      },
      "outputs": [
        {
          "output_type": "execute_result",
          "data": {
            "text/plain": [
              "(107696,)"
            ]
          },
          "metadata": {},
          "execution_count": 58
        }
      ],
      "source": [
        "#dependent feature\n",
        "sentiment = merged_data['sentiment']\n",
        "sentiment.shape"
      ]
    },
    {
      "cell_type": "code",
      "execution_count": 59,
      "id": "dd45c2fd",
      "metadata": {
        "colab": {
          "base_uri": "https://localhost:8080/"
        },
        "id": "dd45c2fd",
        "outputId": "3a582f63-a6d7-41af-8c9c-07943b32d2c6"
      },
      "outputs": [
        {
          "output_type": "stream",
          "name": "stdout",
          "text": [
            "Train data shape  (72156, 26211) (72156,)\n",
            "Test data shape  (35540, 26211) (35540,)\n"
          ]
        }
      ],
      "source": [
        "#split the data in train and test\n",
        "from sklearn.model_selection import train_test_split\n",
        "X_train,X_test,Y_train,Y_test = train_test_split(reviews_corpus,sentiment,test_size=0.33,random_state=42)\n",
        "print('Train data shape ',X_train.shape,Y_train.shape)\n",
        "print('Test data shape ',X_test.shape,Y_test.shape)"
      ]
    },
    {
      "cell_type": "markdown",
      "id": "affb592f",
      "metadata": {
        "id": "affb592f"
      },
      "source": [
        "#### Apply Multinomial Naive Bayes"
      ]
    },
    {
      "cell_type": "code",
      "execution_count": 60,
      "id": "9be7aa16",
      "metadata": {
        "colab": {
          "base_uri": "https://localhost:8080/"
        },
        "id": "9be7aa16",
        "outputId": "2e276df5-88ac-46d6-8042-3e3abd40d814"
      },
      "outputs": [
        {
          "output_type": "stream",
          "name": "stdout",
          "text": [
            "Accuracy: 0.7424310635903207\n",
            "Confusion Matrix\n",
            "[[ 1793   234]\n",
            " [ 8920 24593]]\n"
          ]
        }
      ],
      "source": [
        "#fit the model and predicct the output\n",
        "\n",
        "clf = MultinomialNB().fit(X_train, Y_train) #fit the training data\n",
        "\n",
        "pred = clf.predict(X_test) #predict the sentiment for test data\n",
        "\n",
        "print(\"Accuracy: %s\" % str(clf.score(X_test, Y_test))) #check accuracy\n",
        "print(\"Confusion Matrix\") \n",
        "print(confusion_matrix(pred, Y_test)) #print confusion matrix"
      ]
    },
    {
      "cell_type": "markdown",
      "id": "22efe9da",
      "metadata": {
        "id": "22efe9da"
      },
      "source": [
        "We have got accuracy score of 75.5% by using NaiveBayes"
      ]
    },
    {
      "cell_type": "markdown",
      "id": "a8214bfc",
      "metadata": {
        "id": "a8214bfc"
      },
      "source": [
        "#### Apply RandomForest"
      ]
    },
    {
      "cell_type": "code",
      "execution_count": 61,
      "id": "ce49c610",
      "metadata": {
        "colab": {
          "base_uri": "https://localhost:8080/"
        },
        "id": "ce49c610",
        "outputId": "eaf8f9b0-5f12-462a-b52e-608bcc508cdf"
      },
      "outputs": [
        {
          "output_type": "stream",
          "name": "stdout",
          "text": [
            "Accuracy: 0.841024198086663\n",
            "Confusion Matrix\n",
            "[[ 5461   398]\n",
            " [ 5252 24429]]\n"
          ]
        }
      ],
      "source": [
        "#fit the model and predicct the output\n",
        "\n",
        "clf = RandomForestClassifier().fit(X_train, Y_train)\n",
        "\n",
        "pred = clf.predict(X_test)\n",
        "\n",
        "print(\"Accuracy: %s\" % str(clf.score(X_test, Y_test)))\n",
        "print(\"Confusion Matrix\")\n",
        "print(confusion_matrix(pred, Y_test))"
      ]
    },
    {
      "cell_type": "markdown",
      "id": "cc34250b",
      "metadata": {
        "id": "cc34250b"
      },
      "source": [
        "### Conclusion"
      ]
    },
    {
      "cell_type": "markdown",
      "id": "983de712",
      "metadata": {
        "id": "983de712"
      },
      "source": [
        "After applying the TfidfVectorizer to transform our reviews in Vectors and applying NaiveBayes and RandomForestClassifier we see that RandomForestClassifier outperforms MulinomialNB. We have achieved accuracy of 89.4 % after applying RandomForestClassifier without any parameter tuning. We can tune the parameters of our classifier and improve our accuracy."
      ]
    }
  ],
  "metadata": {
    "kernelspec": {
      "display_name": "Python 3",
      "language": "python",
      "name": "python3"
    },
    "language_info": {
      "codemirror_mode": {
        "name": "ipython",
        "version": 3
      },
      "file_extension": ".py",
      "mimetype": "text/x-python",
      "name": "python",
      "nbconvert_exporter": "python",
      "pygments_lexer": "ipython3",
      "version": "3.8.5"
    },
    "colab": {
      "provenance": [],
      "include_colab_link": true
    }
  },
  "nbformat": 4,
  "nbformat_minor": 5
}