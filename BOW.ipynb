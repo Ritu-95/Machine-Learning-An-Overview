{
  "nbformat": 4,
  "nbformat_minor": 0,
  "metadata": {
    "colab": {
      "private_outputs": true,
      "provenance": [],
      "include_colab_link": true
    },
    "kernelspec": {
      "name": "python3",
      "display_name": "Python 3"
    },
    "language_info": {
      "name": "python"
    }
  },
  "cells": [
    {
      "cell_type": "markdown",
      "metadata": {
        "id": "view-in-github",
        "colab_type": "text"
      },
      "source": [
        "<a href=\"https://colab.research.google.com/github/Ritu-95/Machine-Learning-An-Overview/blob/main/BOW.ipynb\" target=\"_parent\"><img src=\"https://colab.research.google.com/assets/colab-badge.svg\" alt=\"Open In Colab\"/></a>"
      ]
    },
    {
      "cell_type": "code",
      "execution_count": null,
      "metadata": {
        "id": "Vpk49wxqXaLS"
      },
      "outputs": [],
      "source": [
        "# importing all necessary libraries\n",
        "import pandas as pd\n",
        "from nltk.tokenize import word_tokenize\n",
        "from nltk.corpus import stopwords\n",
        "from sklearn.feature_extraction.text import CountVectorizer\n",
        "import nltk\n",
        "nltk.download('punkt')\n",
        "nltk.download('stopwords')\n",
        "#setting max width to show all columns in dataframe\n",
        "pd.set_option('max_colwidth', 100)\n",
        "# building bag of words model on three sentences\n",
        "documents = [\"Machine learning uses historical data to predict output values.\", \n",
        "             \"It is seen as a part of artificial intelligence.\",\n",
        "             \"Machine learning programs can perform tasks without being explicitly programmed to do so.\"]"
      ]
    },
    {
      "cell_type": "code",
      "source": [
        "def preprocess(document):\n",
        "   #changes document to lower case and removes stopwords'\n",
        "    # change sentence to lower case\n",
        "    document = document.lower()\n",
        "    # tokenize into words\n",
        "    words = word_tokenize(document)\n",
        "    # remove stop words\n",
        "    words = [word for word in words if word not in stopwords.words(\"english\")]\n",
        "    # join back words to make sentence\n",
        "    document = \" \".join(words)\n",
        "    \n",
        "    return document\n",
        "documents = [preprocess(document) for document in documents]\n",
        "print(documents)"
      ],
      "metadata": {
        "id": "eWfDxAi_XeA4"
      },
      "execution_count": null,
      "outputs": []
    },
    {
      "cell_type": "code",
      "source": [
        "vectorizer = CountVectorizer()\n",
        "bow_model = vectorizer.fit_transform(documents)\n",
        "print(bow_model)  # returns the rows and column number of cells which have 1 as value"
      ],
      "metadata": {
        "id": "d3UiIFj5XhXs"
      },
      "execution_count": null,
      "outputs": []
    },
    {
      "cell_type": "code",
      "source": [
        "# print the full sparse matrix\n",
        "print(bow_model.toarray())"
      ],
      "metadata": {
        "id": "NB5TjynKX1D8"
      },
      "execution_count": null,
      "outputs": []
    },
    {
      "cell_type": "code",
      "source": [
        "pd.DataFrame(bow_model.toarray(), columns = vectorizer.get_feature_names_out())"
      ],
      "metadata": {
        "id": "-ZQWQYijfkwO"
      },
      "execution_count": null,
      "outputs": []
    },
    {
      "cell_type": "code",
      "source": [
        "# https://wisdomml.in/bag-of-words-bow-model-with-complete-implementation-in-python/"
      ],
      "metadata": {
        "id": "5yHwEAk6YB2-"
      },
      "execution_count": null,
      "outputs": []
    }
  ]
}